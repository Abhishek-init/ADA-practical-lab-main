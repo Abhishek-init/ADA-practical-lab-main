{
  "nbformat": 4,
  "nbformat_minor": 0,
  "metadata": {
    "kernelspec": {
      "name": "python3",
      "display_name": "Python 3"
    },
    "toc": {
      "nav_menu": {},
      "number_sections": true,
      "sideBar": true,
      "skip_h1_title": false,
      "toc_cell": true,
      "toc_position": {},
      "toc_section_display": "block",
      "toc_window_display": false
    },
    "colab": {
      "name": "Copy of CO -CST  Neural_network_for_Mnist_number_dataset.ipynb",
      "provenance": [],
      "collapsed_sections": [],
      "include_colab_link": true
    },
    "accelerator": "GPU"
  },
  "cells": [
    {
      "cell_type": "markdown",
      "metadata": {
        "id": "view-in-github",
        "colab_type": "text"
      },
      "source": [
        "<a href=\"https://colab.research.google.com/github/Abhishek-init/ADA-practical-lab-main/blob/main/Copy_of_CO_CST_Neural_network_for_Mnist_number_dataset.ipynb\" target=\"_parent\"><img src=\"https://colab.research.google.com/assets/colab-badge.svg\" alt=\"Open In Colab\"/></a>"
      ]
    },
    {
      "cell_type": "markdown",
      "metadata": {
        "toc": true,
        "id": "zQvT7bhRzp4e"
      },
      "source": [
        "<h1>Table of Contents<span class=\"tocSkip\"></span></h1>\n",
        "<div class=\"toc\" style=\"margin-top: 1em;\"><ul class=\"toc-item\"><li><span><a href=\"#Loading-the-MNIST-dataset-in-Keras\" data-toc-modified-id=\"Loading-the-MNIST-dataset-in-Keras-1\"><span class=\"toc-item-num\">1&nbsp;&nbsp;</span>Loading the MNIST dataset in Keras</a></span></li><li><span><a href=\"#The-network-architecture\" data-toc-modified-id=\"The-network-architecture-2\"><span class=\"toc-item-num\">2&nbsp;&nbsp;</span>The network architecture</a></span></li><li><span><a href=\"#The-compilation-step\" data-toc-modified-id=\"The-compilation-step-3\"><span class=\"toc-item-num\">3&nbsp;&nbsp;</span>The compilation step</a></span></li><li><span><a href=\"#Preparing-the-image-data\" data-toc-modified-id=\"Preparing-the-image-data-4\"><span class=\"toc-item-num\">4&nbsp;&nbsp;</span>Preparing the image data</a></span></li><li><span><a href=\"#Preparing-the-labels\" data-toc-modified-id=\"Preparing-the-labels-5\"><span class=\"toc-item-num\">5&nbsp;&nbsp;</span>Preparing the labels</a></span></li><li><span><a href=\"#Training-and-Testing\" data-toc-modified-id=\"Training-and-Testing-6\"><span class=\"toc-item-num\">6&nbsp;&nbsp;</span>Training and Testing</a></span></li></ul></div>"
      ]
    },
    {
      "cell_type": "markdown",
      "metadata": {
        "id": "GSee4zKUzp4i"
      },
      "source": [
        "# Loading the MNIST dataset in Keras"
      ]
    },
    {
      "cell_type": "code",
      "metadata": {
        "id": "6a8IveFHzp4l"
      },
      "source": [
        "from keras.datasets import mnist"
      ],
      "execution_count": 1,
      "outputs": []
    },
    {
      "cell_type": "code",
      "metadata": {
        "id": "LQPmnZ8xzp4v",
        "colab": {
          "base_uri": "https://localhost:8080/"
        },
        "outputId": "187d95e2-1180-4555-f699-11e659d563ec"
      },
      "source": [
        "(train_images, train_labels), (test_images, test_labels) = mnist.load_data()"
      ],
      "execution_count": 2,
      "outputs": [
        {
          "output_type": "stream",
          "name": "stdout",
          "text": [
            "Downloading data from https://storage.googleapis.com/tensorflow/tf-keras-datasets/mnist.npz\n",
            "11493376/11490434 [==============================] - 0s 0us/step\n",
            "11501568/11490434 [==============================] - 0s 0us/step\n"
          ]
        }
      ]
    },
    {
      "cell_type": "markdown",
      "metadata": {
        "id": "mnZfS9HYzp4z"
      },
      "source": [
        "- The images are encoded as Numpy arrays, and the labels are an array of digits, ranging from 0 to 9."
      ]
    },
    {
      "cell_type": "code",
      "metadata": {
        "id": "VFdoffSmzp41",
        "outputId": "5561c013-8613-46d2-d909-e6b730f9f6f2",
        "colab": {
          "base_uri": "https://localhost:8080/"
        }
      },
      "source": [
        "train_images.shape"
      ],
      "execution_count": 3,
      "outputs": [
        {
          "output_type": "execute_result",
          "data": {
            "text/plain": [
              "(60000, 28, 28)"
            ]
          },
          "metadata": {},
          "execution_count": 3
        }
      ]
    },
    {
      "cell_type": "code",
      "metadata": {
        "id": "tD65nC-vzp45",
        "outputId": "1b763527-d01a-4249-9d2b-616a2886bedb",
        "colab": {
          "base_uri": "https://localhost:8080/"
        }
      },
      "source": [
        "len(train_labels)"
      ],
      "execution_count": 4,
      "outputs": [
        {
          "output_type": "execute_result",
          "data": {
            "text/plain": [
              "60000"
            ]
          },
          "metadata": {},
          "execution_count": 4
        }
      ]
    },
    {
      "cell_type": "code",
      "metadata": {
        "id": "IX9LpWNazp4_",
        "outputId": "21829924-012a-4e95-f04f-9a22260c3913",
        "colab": {
          "base_uri": "https://localhost:8080/"
        }
      },
      "source": [
        "train_labels"
      ],
      "execution_count": 5,
      "outputs": [
        {
          "output_type": "execute_result",
          "data": {
            "text/plain": [
              "array([5, 0, 4, ..., 5, 6, 8], dtype=uint8)"
            ]
          },
          "metadata": {},
          "execution_count": 5
        }
      ]
    },
    {
      "cell_type": "code",
      "metadata": {
        "id": "SG0L5p4Dzp5D",
        "outputId": "cddd4a0a-94c6-433f-ac86-87aa6bd46ebf",
        "colab": {
          "base_uri": "https://localhost:8080/"
        }
      },
      "source": [
        "test_images.shape"
      ],
      "execution_count": 6,
      "outputs": [
        {
          "output_type": "execute_result",
          "data": {
            "text/plain": [
              "(10000, 28, 28)"
            ]
          },
          "metadata": {},
          "execution_count": 6
        }
      ]
    },
    {
      "cell_type": "code",
      "metadata": {
        "id": "MimOH_Xnzp5I",
        "outputId": "863f4635-b289-4092-be8c-970437fe4a46",
        "colab": {
          "base_uri": "https://localhost:8080/"
        }
      },
      "source": [
        "len(test_labels)"
      ],
      "execution_count": 7,
      "outputs": [
        {
          "output_type": "execute_result",
          "data": {
            "text/plain": [
              "10000"
            ]
          },
          "metadata": {},
          "execution_count": 7
        }
      ]
    },
    {
      "cell_type": "code",
      "metadata": {
        "id": "8EHR0v0Bzp5M",
        "outputId": "67fce576-5aa1-4796-d2ee-ee0d87139f2f",
        "colab": {
          "base_uri": "https://localhost:8080/"
        }
      },
      "source": [
        "test_labels"
      ],
      "execution_count": 8,
      "outputs": [
        {
          "output_type": "execute_result",
          "data": {
            "text/plain": [
              "array([7, 2, 1, ..., 4, 5, 6], dtype=uint8)"
            ]
          },
          "metadata": {},
          "execution_count": 8
        }
      ]
    },
    {
      "cell_type": "markdown",
      "metadata": {
        "id": "s0Tp6nDRzp5R"
      },
      "source": [
        "Let's build the network"
      ]
    },
    {
      "cell_type": "markdown",
      "metadata": {
        "id": "WxbJXg2Czp5T"
      },
      "source": [
        "# The network architecture"
      ]
    },
    {
      "cell_type": "markdown",
      "metadata": {
        "id": "kGCxNrDdzp5U"
      },
      "source": [
        "- The core building block of neural networks is the **layer**, a data-processing module that you can think of as a filter for data.\n",
        "    - Some data goes in, and it comes out in a more useful form.\n",
        "    - Layers extract **representations** (hopefully, meaningful for the data problem at hand) out of the data fed into them.\n",
        "    \n",
        "- Most of deep learning consists of chaining together simple layers that will implement a form of progressive **data distillation**.\n",
        "- A deep learning model is like a sieve for data-processing, made of a succession of increasingly refined data filters--**the layers**."
      ]
    },
    {
      "cell_type": "code",
      "metadata": {
        "id": "uyUqGjPTzp5V"
      },
      "source": [
        "from keras import models\n",
        "from keras import layers"
      ],
      "execution_count": 9,
      "outputs": []
    },
    {
      "cell_type": "code",
      "metadata": {
        "id": "NEVk0S9_zp5a"
      },
      "source": [
        "network = models.Sequential()\n",
        "# Dense(512) is a fully-connected layer with 512 hidden units.\n",
        "# in the first layer, you must specify the expected input data shape :\n",
        "# here, 28 X 28=784 -dimensional vectors.\n",
        "network.add(layers.Dense(32, activation='relu', input_shape=(28 * 28, )))\n",
        "network.add(layers.Dense(16, activation='tanh'))\n",
        "network.add(layers.Dense(10, activation='softmax'))"
      ],
      "execution_count": 10,
      "outputs": []
    },
    {
      "cell_type": "markdown",
      "metadata": {
        "id": "Af2c2tvKzp5f"
      },
      "source": [
        "- Our network consists of a sequence of two *Dense* layers, which are densely connected (also called *fully connected*) neural layers.\n",
        "- The second (and last) layer is a **10-way** *softmax* layer, which means it will return an array of **10** probability scores. Each score will be the probability that the current digit image belongs to one of our 10 digit classes. "
      ]
    },
    {
      "cell_type": "markdown",
      "metadata": {
        "id": "NHbqJ-rWzp5g"
      },
      "source": [
        "# The compilation step"
      ]
    },
    {
      "cell_type": "markdown",
      "metadata": {
        "id": "1w0ne5wYzp5h"
      },
      "source": [
        "- To make the network ready for training, we need to pick three more things, as part of the **compilation** step:\n",
        " - **A loss function**-- How the network will be able to measure its performance on the training data, and thus how it will be able to steer itself in the right direction.\n",
        " - **An optimizer**--The mechanism through which the network will update itself based on the data it sees and its loss function.\n",
        " - **Metrics to monitor during training and testing**--Here, we will only care about accuracy (the fraction of the images that were correctly classified)."
      ]
    },
    {
      "cell_type": "code",
      "metadata": {
        "id": "uvSO-q9Ozp5i"
      },
      "source": [
        "network.compile(optimizer='adam',\n",
        "                loss='categorical_crossentropy', \n",
        "                metrics=['accuracy'])\n",
        "# //One hot encoding = to_categorical \n",
        "    "
      ],
      "execution_count": 11,
      "outputs": []
    },
    {
      "cell_type": "markdown",
      "metadata": {
        "id": "fLHJqTLXzp5o"
      },
      "source": [
        "# Preparing the image data"
      ]
    },
    {
      "cell_type": "markdown",
      "metadata": {
        "id": "ajWKVl1-zp5q"
      },
      "source": [
        "Before training, we will preprocess the data by reshaping it into the shape the network expects and scaling it so that all values are in the $[0-1]$ interval."
      ]
    },
    {
      "cell_type": "code",
      "metadata": {
        "id": "4vMdz75Wzp5s"
      },
      "source": [
        "train_images = train_images.reshape((60000, 28 * 28))\n",
        "train_images = train_images.astype('float32') / 255.\n",
        "# divided by 255 because of color intensity of pixels range bw 0 to 255"
      ],
      "execution_count": 12,
      "outputs": []
    },
    {
      "cell_type": "code",
      "metadata": {
        "id": "4icW7vDgzp5w"
      },
      "source": [
        "test_images = test_images.reshape((10000, 28 * 28))\n",
        "test_images = test_images.astype('float32') / 255."
      ],
      "execution_count": 13,
      "outputs": []
    },
    {
      "cell_type": "markdown",
      "metadata": {
        "id": "0SHD8Vvhzp5z"
      },
      "source": [
        "# Preparing the labels"
      ]
    },
    {
      "cell_type": "markdown",
      "metadata": {
        "id": "JA1YmuF1zp51"
      },
      "source": [
        "We also need to categorically encode the labels."
      ]
    },
    {
      "cell_type": "code",
      "metadata": {
        "id": "Bh42ABtgzp58"
      },
      "source": [
        "from tensorflow.keras.utils import to_categorical"
      ],
      "execution_count": 14,
      "outputs": []
    },
    {
      "cell_type": "code",
      "metadata": {
        "id": "3eCqlapJzp6A",
        "outputId": "00bb3bb5-d360-4547-904c-efc114ff4bb8",
        "colab": {
          "base_uri": "https://localhost:8080/"
        }
      },
      "source": [
        "train_labels = to_categorical(train_labels)\n",
        "train_labels"
      ],
      "execution_count": 15,
      "outputs": [
        {
          "output_type": "execute_result",
          "data": {
            "text/plain": [
              "array([[0., 0., 0., ..., 0., 0., 0.],\n",
              "       [1., 0., 0., ..., 0., 0., 0.],\n",
              "       [0., 0., 0., ..., 0., 0., 0.],\n",
              "       ...,\n",
              "       [0., 0., 0., ..., 0., 0., 0.],\n",
              "       [0., 0., 0., ..., 0., 0., 0.],\n",
              "       [0., 0., 0., ..., 0., 1., 0.]], dtype=float32)"
            ]
          },
          "metadata": {},
          "execution_count": 15
        }
      ]
    },
    {
      "cell_type": "code",
      "metadata": {
        "id": "wWXDQKNBzp6E",
        "colab": {
          "base_uri": "https://localhost:8080/"
        },
        "outputId": "0de7dba1-a660-415c-da72-a1779434c37d"
      },
      "source": [
        "test_labels = to_categorical(test_labels)\n",
        "test_labels"
      ],
      "execution_count": 16,
      "outputs": [
        {
          "output_type": "execute_result",
          "data": {
            "text/plain": [
              "array([[0., 0., 0., ..., 1., 0., 0.],\n",
              "       [0., 0., 1., ..., 0., 0., 0.],\n",
              "       [0., 1., 0., ..., 0., 0., 0.],\n",
              "       ...,\n",
              "       [0., 0., 0., ..., 0., 0., 0.],\n",
              "       [0., 0., 0., ..., 0., 0., 0.],\n",
              "       [0., 0., 0., ..., 0., 0., 0.]], dtype=float32)"
            ]
          },
          "metadata": {},
          "execution_count": 16
        }
      ]
    },
    {
      "cell_type": "markdown",
      "metadata": {
        "id": "csJ7yQVxzp6I"
      },
      "source": [
        "# Training and Testing"
      ]
    },
    {
      "cell_type": "markdown",
      "metadata": {
        "id": "P-KLV-VIzp6K"
      },
      "source": [
        "We are now ready to train the network, which in Keras is done via a call to the network's fit method--we fit the model to its training data:"
      ]
    },
    {
      "cell_type": "code",
      "metadata": {
        "id": "sGWa7zXYzp6O",
        "outputId": "602d00ff-1012-4b3a-96bc-94b8155b9349",
        "colab": {
          "base_uri": "https://localhost:8080/"
        }
      },
      "source": [
        "network.fit(train_images, train_labels, epochs=30, batch_size=48)"
      ],
      "execution_count": 23,
      "outputs": [
        {
          "output_type": "stream",
          "name": "stdout",
          "text": [
            "Epoch 1/30\n",
            "1250/1250 [==============================] - 4s 3ms/step - loss: 0.0123 - accuracy: 0.9968\n",
            "Epoch 2/30\n",
            "1250/1250 [==============================] - 4s 3ms/step - loss: 0.0124 - accuracy: 0.9967\n",
            "Epoch 3/30\n",
            "1250/1250 [==============================] - 4s 3ms/step - loss: 0.0150 - accuracy: 0.9955\n",
            "Epoch 4/30\n",
            "1250/1250 [==============================] - 4s 3ms/step - loss: 0.0134 - accuracy: 0.9965\n",
            "Epoch 5/30\n",
            "1250/1250 [==============================] - 4s 3ms/step - loss: 0.0125 - accuracy: 0.9969\n",
            "Epoch 6/30\n",
            "1250/1250 [==============================] - 4s 3ms/step - loss: 0.0140 - accuracy: 0.9959\n",
            "Epoch 7/30\n",
            "1250/1250 [==============================] - 4s 3ms/step - loss: 0.0110 - accuracy: 0.9974\n",
            "Epoch 8/30\n",
            "1250/1250 [==============================] - 4s 3ms/step - loss: 0.0129 - accuracy: 0.9965\n",
            "Epoch 9/30\n",
            "1250/1250 [==============================] - 4s 3ms/step - loss: 0.0136 - accuracy: 0.9965\n",
            "Epoch 10/30\n",
            "1250/1250 [==============================] - 4s 3ms/step - loss: 0.0109 - accuracy: 0.9972\n",
            "Epoch 11/30\n",
            "1250/1250 [==============================] - 4s 3ms/step - loss: 0.0131 - accuracy: 0.9963\n",
            "Epoch 12/30\n",
            "1250/1250 [==============================] - 4s 3ms/step - loss: 0.0118 - accuracy: 0.9970\n",
            "Epoch 13/30\n",
            "1250/1250 [==============================] - 4s 3ms/step - loss: 0.0119 - accuracy: 0.9966\n",
            "Epoch 14/30\n",
            "1250/1250 [==============================] - 4s 3ms/step - loss: 0.0140 - accuracy: 0.9960\n",
            "Epoch 15/30\n",
            "1250/1250 [==============================] - 4s 3ms/step - loss: 0.0089 - accuracy: 0.9978\n",
            "Epoch 16/30\n",
            "1250/1250 [==============================] - 4s 3ms/step - loss: 0.0094 - accuracy: 0.9976\n",
            "Epoch 17/30\n",
            "1250/1250 [==============================] - 4s 3ms/step - loss: 0.0125 - accuracy: 0.9962\n",
            "Epoch 18/30\n",
            "1250/1250 [==============================] - 4s 3ms/step - loss: 0.0118 - accuracy: 0.9971\n",
            "Epoch 19/30\n",
            "1250/1250 [==============================] - 4s 3ms/step - loss: 0.0100 - accuracy: 0.9974\n",
            "Epoch 20/30\n",
            "1250/1250 [==============================] - 4s 3ms/step - loss: 0.0087 - accuracy: 0.9978\n",
            "Epoch 21/30\n",
            "1250/1250 [==============================] - 4s 3ms/step - loss: 0.0142 - accuracy: 0.9956\n",
            "Epoch 22/30\n",
            "1250/1250 [==============================] - 4s 3ms/step - loss: 0.0099 - accuracy: 0.9975\n",
            "Epoch 23/30\n",
            "1250/1250 [==============================] - 4s 3ms/step - loss: 0.0120 - accuracy: 0.9966\n",
            "Epoch 24/30\n",
            "1250/1250 [==============================] - 4s 3ms/step - loss: 0.0089 - accuracy: 0.9978\n",
            "Epoch 25/30\n",
            "1250/1250 [==============================] - 4s 3ms/step - loss: 0.0088 - accuracy: 0.9974\n",
            "Epoch 26/30\n",
            "1250/1250 [==============================] - 4s 3ms/step - loss: 0.0113 - accuracy: 0.9966\n",
            "Epoch 27/30\n",
            "1250/1250 [==============================] - 4s 3ms/step - loss: 0.0101 - accuracy: 0.9972\n",
            "Epoch 28/30\n",
            "1250/1250 [==============================] - 4s 3ms/step - loss: 0.0104 - accuracy: 0.9972\n",
            "Epoch 29/30\n",
            "1250/1250 [==============================] - 4s 3ms/step - loss: 0.0100 - accuracy: 0.9973\n",
            "Epoch 30/30\n",
            "1250/1250 [==============================] - 4s 3ms/step - loss: 0.0085 - accuracy: 0.9976\n"
          ]
        },
        {
          "output_type": "execute_result",
          "data": {
            "text/plain": [
              "<keras.callbacks.History at 0x7f314449d8d0>"
            ]
          },
          "metadata": {},
          "execution_count": 23
        }
      ]
    },
    {
      "cell_type": "markdown",
      "metadata": {
        "id": "heVasO26zp6V"
      },
      "source": [
        "- Two quantities are displayed during training:\n",
        "    - The loss of the network over the training data\n",
        "    - The accuracy of the network over the training data\n",
        "    \n",
        "- We quickly reach an accuracy of **$0.9886 (98.86\\%)$** on the training data."
      ]
    },
    {
      "cell_type": "markdown",
      "metadata": {
        "id": "0eDaNGAYzp6X"
      },
      "source": [
        "- Now let's check that the model performs well on the test set, too:"
      ]
    },
    {
      "cell_type": "code",
      "metadata": {
        "id": "2-UhmyTWzp6Y",
        "outputId": "796a971b-62c0-409a-be6c-4b52752a04c5",
        "colab": {
          "base_uri": "https://localhost:8080/"
        }
      },
      "source": [
        "test_loss, test_acc = network.evaluate(test_images, test_labels)"
      ],
      "execution_count": 27,
      "outputs": [
        {
          "output_type": "stream",
          "name": "stdout",
          "text": [
            "313/313 [==============================] - 1s 2ms/step - loss: 0.2145 - accuracy: 0.9621\n"
          ]
        }
      ]
    },
    {
      "cell_type": "code",
      "metadata": {
        "id": "omz-cZXLzp6d",
        "outputId": "f66c79f8-291f-44f5-cd22-208db3cae11b",
        "colab": {
          "base_uri": "https://localhost:8080/"
        }
      },
      "source": [
        "print('Test Accuracy: {:.5f} '.format(test_acc))"
      ],
      "execution_count": 26,
      "outputs": [
        {
          "output_type": "stream",
          "name": "stdout",
          "text": [
            "Test Accuracy: 0.96210 \n"
          ]
        }
      ]
    },
    {
      "cell_type": "code",
      "metadata": {
        "id": "cbIp64KFzp6g",
        "outputId": "8da29680-02bb-4a5f-af4d-d5b8d7b2c981",
        "colab": {
          "base_uri": "https://localhost:8080/"
        }
      },
      "source": [
        "test_acc"
      ],
      "execution_count": 28,
      "outputs": [
        {
          "output_type": "execute_result",
          "data": {
            "text/plain": [
              "0.9621000289916992"
            ]
          },
          "metadata": {},
          "execution_count": 28
        }
      ]
    },
    {
      "cell_type": "markdown",
      "metadata": {
        "id": "yi5jDr-0zp6k"
      },
      "source": [
        "- The test-set accuracy turns out to be $97.780\\%$--that is quite a bit lower than the training set accuracy. This gap between training and test accuracy is an example of **overfitting**:the fact that the ML models tend to perform worse on new data than on their training data."
      ]
    },
    {
      "cell_type": "code",
      "metadata": {
        "id": "JOu1IQW6zp6l",
        "outputId": "fc5dc1e9-68a1-4007-cc39-758150b02073",
        "colab": {
          "base_uri": "https://localhost:8080/",
          "height": 368
        }
      },
      "source": [
        "from tensorflow.keras.utils import plot_model\n",
        "plot_model(network, to_file='model.png')"
      ],
      "execution_count": 29,
      "outputs": [
        {
          "output_type": "execute_result",
          "data": {
            "text/plain": [
              "<IPython.core.display.Image object>"
            ],
            "image/png": "[encoded data removed]"
          },
          "metadata": {},
          "execution_count": 29
        }
      ]
    },
    {
      "cell_type": "code",
      "metadata": {
        "id": "LVvUxpAkOQuz",
        "outputId": "25428f2a-cb87-4552-e739-f3491533f5e7",
        "colab": {
          "base_uri": "https://localhost:8080/",
          "height": 1000
        }
      },
      "source": [
        "import matplotlib.pyplot as plt\n",
        "history =network.fit(train_images, train_labels, validation_split=0.33,epochs=20, batch_size=64)\n",
        "history_dict = history.history\n",
        "print(history_dict.keys())\n",
        "plt.plot(history.history['accuracy'])\n",
        "plt.plot(history.history['val_accuracy'])\n",
        "plt.title('Model accuracy')\n",
        "plt.ylabel('Accuracy')\n",
        "plt.xlabel('Epoch')\n",
        "plt.legend(['Train', 'Test'], loc='upper left')\n",
        "plt.show()\n",
        "\n",
        "# Plot training & validation loss values\n",
        "plt.plot(history.history['loss'])\n",
        "plt.plot(history.history['val_loss'])\n",
        "plt.title('Model loss')\n",
        "plt.ylabel('Loss')\n",
        "plt.xlabel('Epoch')\n",
        "plt.legend(['Train', 'Test'], loc='upper left')\n",
        "plt.show()"
      ],
      "execution_count": 30,
      "outputs": [
        {
          "output_type": "stream",
          "name": "stdout",
          "text": [
            "Epoch 1/20\n",
            "629/629 [==============================] - 2s 4ms/step - loss: 0.0046 - accuracy: 0.9992 - val_loss: 0.0040 - val_accuracy: 0.9992\n",
            "Epoch 2/20\n",
            "629/629 [==============================] - 2s 4ms/step - loss: 0.0030 - accuracy: 0.9996 - val_loss: 0.0039 - val_accuracy: 0.9992\n",
            "Epoch 3/20\n",
            "629/629 [==============================] - 2s 4ms/step - loss: 0.0028 - accuracy: 0.9996 - val_loss: 0.0041 - val_accuracy: 0.9992\n",
            "Epoch 4/20\n",
            "629/629 [==============================] - 2s 3ms/step - loss: 0.0046 - accuracy: 0.9990 - val_loss: 0.0292 - val_accuracy: 0.9908\n",
            "Epoch 5/20\n",
            "629/629 [==============================] - 2s 4ms/step - loss: 0.0158 - accuracy: 0.9952 - val_loss: 0.0147 - val_accuracy: 0.9952\n",
            "Epoch 6/20\n",
            "629/629 [==============================] - 2s 3ms/step - loss: 0.0058 - accuracy: 0.9986 - val_loss: 0.0171 - val_accuracy: 0.9945\n",
            "Epoch 7/20\n",
            "629/629 [==============================] - 2s 4ms/step - loss: 0.0048 - accuracy: 0.9989 - val_loss: 0.0111 - val_accuracy: 0.9966\n",
            "Epoch 8/20\n",
            "629/629 [==============================] - 2s 4ms/step - loss: 0.0031 - accuracy: 0.9995 - val_loss: 0.0107 - val_accuracy: 0.9967\n",
            "Epoch 9/20\n",
            "629/629 [==============================] - 2s 4ms/step - loss: 0.0026 - accuracy: 0.9997 - val_loss: 0.0090 - val_accuracy: 0.9973\n",
            "Epoch 10/20\n",
            "629/629 [==============================] - 2s 4ms/step - loss: 0.0024 - accuracy: 0.9997 - val_loss: 0.0082 - val_accuracy: 0.9976\n",
            "Epoch 11/20\n",
            "629/629 [==============================] - 2s 3ms/step - loss: 0.0178 - accuracy: 0.9945 - val_loss: 0.0208 - val_accuracy: 0.9932\n",
            "Epoch 12/20\n",
            "629/629 [==============================] - 2s 3ms/step - loss: 0.0077 - accuracy: 0.9980 - val_loss: 0.0191 - val_accuracy: 0.9929\n",
            "Epoch 13/20\n",
            "629/629 [==============================] - 2s 4ms/step - loss: 0.0031 - accuracy: 0.9995 - val_loss: 0.0121 - val_accuracy: 0.9964\n",
            "Epoch 14/20\n",
            "629/629 [==============================] - 2s 3ms/step - loss: 0.0021 - accuracy: 0.9998 - val_loss: 0.0120 - val_accuracy: 0.9963\n",
            "Epoch 15/20\n",
            "629/629 [==============================] - 2s 3ms/step - loss: 0.0019 - accuracy: 0.9998 - val_loss: 0.0126 - val_accuracy: 0.9964\n",
            "Epoch 16/20\n",
            "629/629 [==============================] - 2s 4ms/step - loss: 0.0028 - accuracy: 0.9993 - val_loss: 0.0581 - val_accuracy: 0.9848\n",
            "Epoch 17/20\n",
            "629/629 [==============================] - 2s 4ms/step - loss: 0.0198 - accuracy: 0.9942 - val_loss: 0.0268 - val_accuracy: 0.9914\n",
            "Epoch 18/20\n",
            "629/629 [==============================] - 2s 3ms/step - loss: 0.0043 - accuracy: 0.9991 - val_loss: 0.0205 - val_accuracy: 0.9936\n",
            "Epoch 19/20\n",
            "629/629 [==============================] - 2s 3ms/step - loss: 0.0021 - accuracy: 0.9998 - val_loss: 0.0174 - val_accuracy: 0.9942\n",
            "Epoch 20/20\n",
            "629/629 [==============================] - 2s 3ms/step - loss: 0.0017 - accuracy: 0.9998 - val_loss: 0.0166 - val_accuracy: 0.9949\n",
            "dict_keys(['loss', 'accuracy', 'val_loss', 'val_accuracy'])\n"
          ]
        },
        {
          "output_type": "display_data",
          "data": {
            "text/plain": [
              "<Figure size 432x288 with 1 Axes>"
            ],
            "image/png": "[encoded data removed]"
          },
          "metadata": {
            "needs_background": "light"
          }
        },
        {
          "output_type": "display_data",
          "data": {
            "text/plain": [
              "<Figure size 432x288 with 1 Axes>"
            ],
            "image/png": "[encoded data removed]"
          },
          "metadata": {
            "needs_background": "light"
          }
        }
      ]
    }
  ]
}